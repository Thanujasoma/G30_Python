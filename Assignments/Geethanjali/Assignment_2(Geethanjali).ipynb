{
  "nbformat": 4,
  "nbformat_minor": 0,
  "metadata": {
    "colab": {
      "provenance": []
    },
    "kernelspec": {
      "name": "python3",
      "display_name": "Python 3"
    },
    "language_info": {
      "name": "python"
    }
  },
  "cells": [
    {
      "cell_type": "code",
      "execution_count": null,
      "metadata": {
        "id": "GJ5QjKNSpfjx"
      },
      "outputs": [],
      "source": [
        "\n",
        "number=int(input(\"enter an integer number\"))\n",
        "if number%2==0:\n",
        "    print(\"it is even number\")\n",
        "else:\n",
        "    print(\"it is odd number\")\n"
      ]
    },
    {
      "cell_type": "code",
      "source": [
        "age=int(input(\"enter your age\"))\n",
        "if age>=18:\n",
        "    print(\"yes you can! All the best!\")\n",
        "else:\n",
        "    print(\"sorry! best of luck next time!\")\n"
      ],
      "metadata": {
        "id": "46hkseN7qIW0"
      },
      "execution_count": null,
      "outputs": []
    },
    {
      "cell_type": "code",
      "source": [
        "year=int(input(\"enter a year\"))\n",
        "if year%4==0:\n",
        "    print(\"this is leap year\")\n",
        "else:\n",
        "    print(\"this is not leap year\")"
      ],
      "metadata": {
        "id": "ZkRCmtvuqZLw"
      },
      "execution_count": null,
      "outputs": []
    },
    {
      "cell_type": "code",
      "source": [
        "chips=100\n",
        "jam=200\n",
        "chocolate=150\n",
        "biscuit=250\n",
        "totalprice=int(input(\"enter your price:\"))\n",
        "if totalprice>=3000 and totalprice<=4000:\n",
        "    print(\"you won a discount=20%\")\n",
        "elif totalprice>=4000 and totalprice>=5000:\n",
        "      print(\"you won a discount=30%\")\n",
        "else:\n",
        "    print(\"vist again!\")\n",
        "discount=int(input(\"enter your discount\"))\n",
        "dprice=discount/100\n",
        "discountprice=totalprice/dprice\n",
        "payableprice=totalprice-discountprice\n",
        "print(\"payableprice\",payableprice)\n",
        "\n",
        "\n"
      ],
      "metadata": {
        "id": "pbeHTAMGqfJo"
      },
      "execution_count": null,
      "outputs": []
    },
    {
      "cell_type": "code",
      "source": [
        "letter=input(\"enetr a character:\")\n",
        "if(letter.isupper())==True:\n",
        "  print(\"this is uppercase\")\n",
        "else:\n",
        "  print(\"this is lowercase\")"
      ],
      "metadata": {
        "id": "0kO_x2Xyq4Lh"
      },
      "execution_count": null,
      "outputs": []
    },
    {
      "cell_type": "code",
      "source": [
        "number=int(input(\"enter ypur number:\"))\n",
        "if number>=0:\n",
        "    print(\"this is posive number\")\n",
        "else:\n",
        "    print(\"this is negative\")"
      ],
      "metadata": {
        "id": "vo-AW8PRq_9X"
      },
      "execution_count": null,
      "outputs": []
    },
    {
      "cell_type": "code",
      "source": [
        "i=5\n",
        "for i in range(0,i):\n",
        "    for j in range(0,i+1):\n",
        "        print(\"*\",end=\"\")\n",
        "    print()\n"
      ],
      "metadata": {
        "id": "PzaZGriWtVma"
      },
      "execution_count": null,
      "outputs": []
    },
    {
      "cell_type": "code",
      "source": [
        "for i in range(1,11):\n",
        "    for j in range(1,11):\n",
        "      print(i,\"x\",j,\"=\",i*j)\n"
      ],
      "metadata": {
        "id": "Y9GidAjitabX"
      },
      "execution_count": null,
      "outputs": []
    },
    {
      "cell_type": "code",
      "source": [
        "i=2\n",
        "while(i<50):\n",
        "   j=2\n",
        "   while(j<=(i/j)):\n",
        "       if not(i%j):\n",
        "           break\n",
        "       j=j+1\n",
        "   if(j>i/j):\n",
        "      print(i, \"is prime\")\n",
        "   i=i+1\n"
      ],
      "metadata": {
        "id": "-D7gYuF8tf82"
      },
      "execution_count": null,
      "outputs": []
    },
    {
      "cell_type": "code",
      "source": [
        "num=int(input(\"enter your range:\"))\n",
        "n1=0\n",
        "n2=1\n",
        "for n in range(0,num):\n",
        "    if(n<=1):\n",
        "        next=n\n",
        "    else:\n",
        "        next=n1+n2\n",
        "        n1=n2\n",
        "        n2=next\n",
        "    print(next)\n"
      ],
      "metadata": {
        "id": "6nFJSPBatmLm"
      },
      "execution_count": null,
      "outputs": []
    },
    {
      "cell_type": "code",
      "source": [
        "from math import factorial\n",
        "n = 5\n",
        "for i in range(n):\n",
        "    for j in range(n-i+1):\n",
        "        print(end=\" \")\n",
        "    for j in range(i+1):\n",
        "        print(factorial(i)//(factorial(j)*factorial(i-j)), end=\" \")\n",
        "    print()"
      ],
      "metadata": {
        "id": "o1urGmNVtrl0"
      },
      "execution_count": null,
      "outputs": []
    }
  ]
}