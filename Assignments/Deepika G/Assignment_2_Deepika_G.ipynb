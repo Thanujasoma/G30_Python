{
  "cells": [
    {
      "cell_type": "code",
      "execution_count": 7,
      "metadata": {
        "colab": {
          "base_uri": "https://localhost:8080/",
          "height": 36
        },
        "id": "XT0ZlWYwn8dM",
        "outputId": "3b2d0c74-9c3e-4fb3-f10b-c295795917b4"
      },
      "outputs": [
        {
          "data": {
            "application/vnd.google.colaboratory.intrinsic+json": {
              "type": "string"
            },
            "text/plain": [
              "'Loops'"
            ]
          },
          "execution_count": 7,
          "metadata": {},
          "output_type": "execute_result"
        }
      ],
      "source": [
        "\"Loops\""
      ]
    },
    {
      "cell_type": "code",
      "execution_count": 1,
      "metadata": {
        "colab": {
          "base_uri": "https://localhost:8080/"
        },
        "id": "Zs3LgqEcms4m",
        "outputId": "0e202730-a676-48ee-e8a8-533f5b620c37"
      },
      "outputs": [
        {
          "name": "stdout",
          "output_type": "stream",
          "text": [
            "*\n",
            "**\n",
            "***\n",
            "****\n",
            "*****\n"
          ]
        }
      ],
      "source": [
        "\"\"\"1. **Print a pattern**: Write a Python program to print the following pattern using nested loops:\n",
        "   ```\n",
        "   *\n",
        "   **\n",
        "   ***\n",
        "   ****\n",
        "   *****\n",
        "   ```\"\"\"\n",
        "\n",
        "rows = 5\n",
        "\n",
        "for i in range(rows):\n",
        "    for j in range(i + 1):\n",
        "        print(\"*\", end=\"\")\n",
        "    print()\n"
      ]
    },
    {
      "cell_type": "code",
      "execution_count": 2,
      "metadata": {
        "colab": {
          "base_uri": "https://localhost:8080/"
        },
        "id": "FIC-bHUxm3zF",
        "outputId": "e76c53d9-fc09-44c0-b7eb-6dafad866bb8"
      },
      "outputs": [
        {
          "name": "stdout",
          "output_type": "stream",
          "text": [
            "1\t2\t3\t4\t5\t6\t7\t8\t9\t10\t\n",
            "2\t4\t6\t8\t10\t12\t14\t16\t18\t20\t\n",
            "3\t6\t9\t12\t15\t18\t21\t24\t27\t30\t\n",
            "4\t8\t12\t16\t20\t24\t28\t32\t36\t40\t\n",
            "5\t10\t15\t20\t25\t30\t35\t40\t45\t50\t\n",
            "6\t12\t18\t24\t30\t36\t42\t48\t54\t60\t\n",
            "7\t14\t21\t28\t35\t42\t49\t56\t63\t70\t\n",
            "8\t16\t24\t32\t40\t48\t56\t64\t72\t80\t\n",
            "9\t18\t27\t36\t45\t54\t63\t72\t81\t90\t\n",
            "10\t20\t30\t40\t50\t60\t70\t80\t90\t100\t\n"
          ]
        }
      ],
      "source": [
        "\"\"\"2. Write a Python program that prints the multiplication table (from 1 to 10) using nested loops.\"\"\"\n",
        "\n",
        "\n",
        "\n",
        "for i in range(1, 11):\n",
        "    for j in range(1, 11):\n",
        "        print(i * j, end=\"\\t\")\n",
        "    print()\n"
      ]
    },
    {
      "cell_type": "code",
      "execution_count": 3,
      "metadata": {
        "colab": {
          "base_uri": "https://localhost:8080/"
        },
        "id": "6B8brv2PnJ88",
        "outputId": "e843682d-3c06-4d4e-9c42-f44a908b856b"
      },
      "outputs": [
        {
          "name": "stdout",
          "output_type": "stream",
          "text": [
            "Prime numbers between 10 and 50 are:\n",
            "11\n",
            "13\n",
            "17\n",
            "19\n",
            "23\n",
            "29\n",
            "31\n",
            "37\n",
            "41\n",
            "43\n",
            "47\n"
          ]
        }
      ],
      "source": [
        "\"\"\"3. Write a Python program using nested loops to find all prime numbers within a given range.\"\"\"\n",
        "\n",
        "\n",
        "start = 10\n",
        "end = 50\n",
        "\n",
        "print(\"Prime numbers between\", start, \"and\", end, \"are:\")\n",
        "\n",
        "for num in range(start, end + 1):\n",
        "    if num > 1:\n",
        "        for i in range(2, num):\n",
        "            if (num % i) == 0:\n",
        "                break\n",
        "        else:\n",
        "            print(num)\n",
        "\n"
      ]
    },
    {
      "cell_type": "code",
      "execution_count": 4,
      "metadata": {
        "colab": {
          "base_uri": "https://localhost:8080/"
        },
        "id": "WeJfaoVunaNF",
        "outputId": "339837c1-b438-484c-e401-8d2813ee01c2"
      },
      "outputs": [
        {
          "name": "stdout",
          "output_type": "stream",
          "text": [
            "Fibonacci sequence:\n",
            "0 1 1 2 3 5 8 13 21 34 "
          ]
        }
      ],
      "source": [
        "\"\"\"4. Write a Python program to print the Fibonacci sequence's first `n` numbers using a loop within a loop.\"\"\"\n",
        "\n",
        "\n",
        "n = 10  # Number of Fibonacci numbers to generate\n",
        "fib_sequence = [0, 1]\n",
        "\n",
        "for _ in range(n - 2):\n",
        "    fib_sequence.append(fib_sequence[-1] + fib_sequence[-2])\n",
        "\n",
        "print(\"Fibonacci sequence:\")\n",
        "for num in fib_sequence:\n",
        "    print(num, end=\" \")\n",
        "\n"
      ]
    },
    {
      "cell_type": "code",
      "execution_count": 5,
      "metadata": {
        "colab": {
          "base_uri": "https://localhost:8080/"
        },
        "id": "IO9DBRW7no9G",
        "outputId": "7fc41b64-4445-440a-b14f-149f50c2ed7e"
      },
      "outputs": [
        {
          "name": "stdout",
          "output_type": "stream",
          "text": [
            "Pascal's Triangle ( 5 rows):\n",
            "     1  \n",
            "    1  1  \n",
            "   1  2  1  \n",
            "  1  3  3  1  \n",
            " 1  4  6  4  1  \n"
          ]
        }
      ],
      "source": [
        "\"\"\"5. Write a Python program to print Pascal's triangle up to `n` rows using nested loops.\"\"\"\n",
        "\n",
        "def print_pascals_triangle(n):\n",
        "    for i in range(n):\n",
        "        val = 1\n",
        "        for _ in range(n - i):\n",
        "            print(\" \", end=\"\")\n",
        "        for j in range(i + 1):\n",
        "            print(val, \" \", end=\"\")\n",
        "            val = val * (i - j) // (j + 1)\n",
        "        print()\n",
        "\n",
        "# Number of rows in Pascal's triangle\n",
        "n = 5\n",
        "print(\"Pascal's Triangle (\", n, \"rows):\")\n",
        "print_pascals_triangle(n)\n",
        "\n"
      ]
    },
    {
      "cell_type": "code",
      "execution_count": 8,
      "metadata": {
        "colab": {
          "base_uri": "https://localhost:8080/",
          "height": 36
        },
        "id": "gQlfKy79oA7V",
        "outputId": "4ed2fb9a-731a-4e1c-a9fa-a08ce725e43f"
      },
      "outputs": [
        {
          "data": {
            "application/vnd.google.colaboratory.intrinsic+json": {
              "type": "string"
            },
            "text/plain": [
              "'If else'"
            ]
          },
          "execution_count": 8,
          "metadata": {},
          "output_type": "execute_result"
        }
      ],
      "source": [
        "\"If else\""
      ]
    },
    {
      "cell_type": "code",
      "execution_count": 9,
      "metadata": {
        "colab": {
          "base_uri": "https://localhost:8080/"
        },
        "id": "9X5mT_zYoKZA",
        "outputId": "18394ecc-c7be-429d-c464-c47bde707e26"
      },
      "outputs": [
        {
          "name": "stdout",
          "output_type": "stream",
          "text": [
            "Enter an integer: 5\n",
            "5 is odd.\n"
          ]
        }
      ],
      "source": [
        "\"\"\"1. Write a program that takes an integer as input and determines if it is even or odd using an if-else statement.\"\"\"\n",
        "\n",
        "num = int(input(\"Enter an integer: \"))\n",
        "\n",
        "if num % 2 == 0:\n",
        "    print(num, \"is even.\")\n",
        "else:\n",
        "    print(num, \"is odd.\")\n"
      ]
    },
    {
      "cell_type": "code",
      "execution_count": 11,
      "metadata": {
        "colab": {
          "base_uri": "https://localhost:8080/"
        },
        "id": "0CGvhO0wo9Zg",
        "outputId": "fbc3fdb9-d54b-4d77-8dbd-7858b1e27c4c"
      },
      "outputs": [
        {
          "name": "stdout",
          "output_type": "stream",
          "text": [
            "Enter your age: 20\n",
            "You are eligible to vote.\n"
          ]
        }
      ],
      "source": [
        "\"\"\"2. Write a program that takes a person's age as input and determines if they are eligible to vote using an if-else statement.\"\"\"\n",
        "\n",
        "age = int(input(\"Enter your age: \"))\n",
        "\n",
        "if age >= 18:\n",
        "    print(\"You are eligible to vote.\")\n",
        "else:\n",
        "    print(\"You are not eligible to vote yet.\")\n"
      ]
    },
    {
      "cell_type": "code",
      "execution_count": 12,
      "metadata": {
        "colab": {
          "base_uri": "https://localhost:8080/"
        },
        "id": "pr38tZN4pOtH",
        "outputId": "44719bf4-22d9-4334-d999-5de54fa61389"
      },
      "outputs": [
        {
          "name": "stdout",
          "output_type": "stream",
          "text": [
            "Enter a year: 2024\n",
            "2024 is a leap year.\n"
          ]
        }
      ],
      "source": [
        "\"\"\"3. Write a program that takes a year as input and determines if it is a leap year using an if-else statement.\"\"\"\n",
        "\n",
        "year = int(input(\"Enter a year: \"))\n",
        "\n",
        "if (year % 4 == 0 and year % 100 != 0) or (year % 400 == 0):\n",
        "    print(year, \"is a leap year.\")\n",
        "else:\n",
        "    print(year, \"is not a leap year.\")\n"
      ]
    },
    {
      "cell_type": "code",
      "execution_count": 13,
      "metadata": {
        "colab": {
          "base_uri": "https://localhost:8080/"
        },
        "id": "FOmpFrjwpYHv",
        "outputId": "cf0afb13-2515-4f26-f9e7-2d723cd29036"
      },
      "outputs": [
        {
          "name": "stdout",
          "output_type": "stream",
          "text": [
            "Enter the price of the product: 200\n",
            "Enter the discount percentage: 30\n",
            "Discounted price: 140.0\n"
          ]
        }
      ],
      "source": [
        "\"\"\"4. Write a program that takes the price of a product and the discount percentage as input and calculates the discounted price using an if-else statement.\"\"\"\n",
        "\n",
        "\n",
        "price = float(input(\"Enter the price of the product: \"))\n",
        "discount_percentage = float(input(\"Enter the discount percentage: \"))\n",
        "\n",
        "if 0 <= discount_percentage <= 100:\n",
        "    discounted_price = price * (1 - discount_percentage / 100)\n",
        "    print(\"Discounted price:\", discounted_price)\n",
        "else:\n",
        "    print(\"Invalid discount percentage entered.\")\n"
      ]
    },
    {
      "cell_type": "code",
      "execution_count": 15,
      "metadata": {
        "colab": {
          "base_uri": "https://localhost:8080/"
        },
        "id": "5nkbQPJMp2Gu",
        "outputId": "70396109-2ac6-494b-8858-03760ae0b5d8"
      },
      "outputs": [
        {
          "name": "stdout",
          "output_type": "stream",
          "text": [
            "Enter a character: j\n",
            "j is lowercase.\n"
          ]
        }
      ],
      "source": [
        "\"\"\"5. Write a program that takes a character as input and determines if it is uppercase or lowercase using an if-else statement.\"\"\"\n",
        "\n",
        "\n",
        "character = input(\"Enter a character: \")\n",
        "\n",
        "if ord('a') <= ord(character) <= ord('z'):\n",
        "    print(character, \"is lowercase.\")\n",
        "elif ord('A') <= ord(character) <= ord('Z'):\n",
        "    print(character, \"is uppercase.\")\n",
        "else:\n",
        "    print(\"Invalid input.\")\n"
      ]
    },
    {
      "cell_type": "code",
      "execution_count": 17,
      "metadata": {
        "colab": {
          "base_uri": "https://localhost:8080/"
        },
        "id": "s177jH0nqIVV",
        "outputId": "20129309-1c2f-4329-e8e4-c17f48f82b58"
      },
      "outputs": [
        {
          "name": "stdout",
          "output_type": "stream",
          "text": [
            "Enter a number: 45\n",
            "The number is positive.\n"
          ]
        }
      ],
      "source": [
        "\"\"\"6. Write a program that takes a number as input and determines if it is positive, negative\"\"\"\n",
        "\n",
        "number = float(input(\"Enter a number: \"))\n",
        "\n",
        "if number > 0:\n",
        "    print(\"The number is positive.\")\n",
        "elif number < 0:\n",
        "    print(\"The number is negative.\")\n",
        "else:\n",
        "    print(\"The number is zero.\")\n"
      ]
    }
  ],
  "metadata": {
    "colab": {
      "provenance": []
    },
    "kernelspec": {
      "display_name": "Python 3",
      "name": "python3"
    },
    "language_info": {
      "codemirror_mode": {
        "name": "ipython",
        "version": 3
      },
      "file_extension": ".py",
      "mimetype": "text/x-python",
      "name": "python",
      "nbconvert_exporter": "python",
      "pygments_lexer": "ipython3",
      "version": "3.12.1"
    }
  },
  "nbformat": 4,
  "nbformat_minor": 0
}
